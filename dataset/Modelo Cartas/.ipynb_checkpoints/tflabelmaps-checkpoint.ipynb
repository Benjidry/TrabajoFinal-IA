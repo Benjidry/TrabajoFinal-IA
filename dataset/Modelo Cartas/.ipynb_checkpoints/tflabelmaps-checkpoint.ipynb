{
 "cells": [
  {
   "cell_type": "code",
   "execution_count": 5,
   "metadata": {},
   "outputs": [],
   "source": [
    "import pandas as pd"
   ]
  },
  {
   "cell_type": "code",
   "execution_count": 16,
   "metadata": {},
   "outputs": [],
   "source": [
    "csv = pd.read_csv('_annotations.csv')\n",
    "\n",
    "modifiedCSV = csv.drop_duplicates(subset=['class'])\n",
    "modifiedCSV = modifiedCSV['class']\n",
    "modifiedCSV.to_csv('labelmap.txt', sep='\\n', index = False, header=False)"
   ]
  }
 ],
 "metadata": {
  "kernelspec": {
   "display_name": "base",
   "language": "python",
   "name": "python3"
  },
  "language_info": {
   "codemirror_mode": {
    "name": "ipython",
    "version": 3
   },
   "file_extension": ".py",
   "mimetype": "text/x-python",
   "name": "python",
   "nbconvert_exporter": "python",
   "pygments_lexer": "ipython3",
   "version": "3.11.5"
  }
 },
 "nbformat": 4,
 "nbformat_minor": 2
}
