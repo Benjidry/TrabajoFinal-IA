{
 "cells": [
  {
   "cell_type": "code",
   "execution_count": null,
   "id": "0065fe88-61bd-4179-9b0b-81dfd9d9fdd3",
   "metadata": {},
   "outputs": [],
   "source": [
    "import tensorflow as tf\n",
    "from tensorflow import keras\n",
    "import cv2\n",
    "import numpy as np"
   ]
  },
  {
   "cell_type": "code",
   "execution_count": null,
   "id": "1751cbb0-a023-4421-aad6-453742d7e431",
   "metadata": {},
   "outputs": [],
   "source": [
    "model_vision_dir = \"./exported_model/\""
   ]
  },
  {
   "cell_type": "code",
   "execution_count": null,
   "id": "8875582a-7f54-4e13-a848-278ed7231878",
   "metadata": {},
   "outputs": [],
   "source": [
    "visionCard = tf.saved_model.load(model_vision_dir)\n",
    "model_card = visionCard.signatures['serving_default']"
   ]
  },
  {
   "cell_type": "code",
   "execution_count": null,
   "id": "3192bf4f-22b4-40ce-bf02-147e215ecfbc",
   "metadata": {},
   "outputs": [],
   "source": [
    "image_dir = './images.jpeg'\n",
    "image = keras.utils.load_img(image_dir)\n",
    "input_arr = keras.utils.img_to_array(image)\n",
    "input_arr = np.array([input_arr])\n",
    "predictions = model_card(input_arr)"
   ]
  }
 ],
 "metadata": {
  "kernelspec": {
   "display_name": "Python 3 (ipykernel)",
   "language": "python",
   "name": "python3"
  },
  "language_info": {
   "codemirror_mode": {
    "name": "ipython",
    "version": 3
   },
   "file_extension": ".py",
   "mimetype": "text/x-python",
   "name": "python",
   "nbconvert_exporter": "python",
   "pygments_lexer": "ipython3",
   "version": "3.11.0rc1"
  }
 },
 "nbformat": 4,
 "nbformat_minor": 5
}
