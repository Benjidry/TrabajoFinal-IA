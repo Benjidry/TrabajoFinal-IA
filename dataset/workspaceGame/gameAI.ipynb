{
 "cells": [
  {
   "cell_type": "markdown",
   "metadata": {},
   "source": [
    "# Instalation of libraries (if necessary)"
   ]
  },
  {
   "cell_type": "markdown",
   "metadata": {},
   "source": [
    "# Libraries"
   ]
  },
  {
   "cell_type": "code",
   "execution_count": 47,
   "metadata": {},
   "outputs": [],
   "source": [
    "import tensorflow as tf\n",
    "from game import GameAI\n",
    "from tools import *\n",
    "\n",
    "import numpy as np\n",
    "\n",
    "from tf_agents.environments import py_environment\n",
    "from tf_agents.environments import tf_environment\n",
    "from tf_agents.environments import tf_py_environment\n",
    "from tf_agents.environments import utils\n",
    "from tf_agents.specs import array_spec\n",
    "from tf_agents.environments import wrappers\n",
    "from tf_agents.environments import suite_gym\n",
    "from tf_agents.trajectories import time_step as ts"
   ]
  },
  {
   "cell_type": "code",
   "execution_count": 45,
   "metadata": {},
   "outputs": [],
   "source": [
    "input_shape = (4,) \n",
    "#State Shape\n",
    "#Cards Dealer\n",
    "#Cards Player\n",
    "#Sum cards Player\n",
    "#Sum cards Dealer\n",
    "\n",
    "num_actions = (2,)\n",
    "#0 Hit \n",
    "#1 Stand\n",
    "#2 Split\n",
    "#3 Doblar"
   ]
  },
  {
   "cell_type": "markdown",
   "metadata": {},
   "source": [
    "# Info"
   ]
  },
  {
   "cell_type": "markdown",
   "metadata": {},
   "source": [
    "## Outputs jugador\n",
    "### 0 = Seguir\n",
    "### 1 = Quedarse\n",
    "### 2 = Split\n",
    "### 3 = Doblar\n",
    "\n",
    "## Estado ganador\n",
    "### 0 Player Wins\n",
    "### 1 Draw\n",
    "### 2 Dealer Wins"
   ]
  },
  {
   "cell_type": "markdown",
   "metadata": {},
   "source": [
    "# Hyperparameters"
   ]
  },
  {
   "cell_type": "code",
   "execution_count": null,
   "metadata": {},
   "outputs": [],
   "source": [
    "num_iterations = 2000\n",
    "initial_collect_steps = 100\n",
    "collect_steps_per_iteration =   1\n",
    "replay_buffer_max_length = 100000\n",
    "batch_size = 64\n",
    "learning_rate = 1e-3\n",
    "log_interval = 200\n",
    "num_eval_episodes = 10\n",
    "eval_interval = 1000\n",
    "\n",
    "amount_apuesta = 30"
   ]
  },
  {
   "cell_type": "markdown",
   "metadata": {},
   "source": [
    "# Enviroments"
   ]
  },
  {
   "cell_type": "code",
   "execution_count": null,
   "metadata": {},
   "outputs": [],
   "source": [
    "class Enviroment(py_environment.PyEnvironment):\n",
    "    def __init__(self):\n",
    "        self.Blackjack = GameAI(200000)\n",
    "        self.observation_spec = []\n",
    "    def action_spec(self):\n",
    "\n",
    "    def observation_spec(self):\n",
    "        cardsDealer = translate_array(self.Blackjack.getCardsDealer())\n",
    "        cardsAI = translate_array(self.Blac}?kjack.getCardsAI())\n",
    "        sumDealer = countCards(cardsDealer)\n",
    "        sumAI = countCards(cardsAI)\n",
    "\n",
    "        observation_spec = np.concatenate(cardsDealer, cardsAI, sumDealer, sumAI)\n",
    "    \n",
    "    def _reset(self):\n",
    "        self.Blackjack.__reset()\n",
    "        self.Blackjack.setApuesta(amount_apuesta)\n",
    "        self.Blackjack.setReady()\n",
    "        self.Blackjack.__game()"
   ]
  },
  {
   "cell_type": "markdown",
   "metadata": {},
   "source": [
    "# Agent"
   ]
  },
  {
   "cell_type": "code",
   "execution_count": null,
   "metadata": {},
   "outputs": [],
   "source": [
    "class Agent:\n",
    "    def __init__(self, state_size, action_size):\n",
    "        self.state_size = state_size\n",
    "        self.action_size = action_size\n",
    "        self.gamma = 0.95\n",
    "        self.epsilon = 1.0\n",
    "        self.epsilon_min = 0.01\n",
    "        self.epsilon_decay = 0.995\n",
    "        self.model = self._build_model()\n"
   ]
  },
  {
   "cell_type": "markdown",
   "metadata": {},
   "source": [
    "# Loop"
   ]
  },
  {
   "cell_type": "code",
   "execution_count": null,
   "metadata": {},
   "outputs": [],
   "source": [
    "python_environment = Enviroment()\n",
    "tf_env = tf_py_environment.TFPyEnvironment(python_environment)"
   ]
  },
  {
   "cell_type": "code",
   "execution_count": null,
   "metadata": {},
   "outputs": [],
   "source": [
    "time_step = tf_env.reset()\n",
    "rewards = []\n",
    "steps = []\n",
    "\n",
    "for _ in range(num_iterations):\n",
    "    reward_t = 0\n",
    "    steps_t = 0\n",
    "    tf_env.reset()\n",
    "    while True:\n",
    "        "
   ]
  }
 ],
 "metadata": {
  "kernelspec": {
   "display_name": "Python 3 (ipykernel)",
   "language": "python",
   "name": "python3"
  },
  "language_info": {
   "codemirror_mode": {
    "name": "ipython",
    "version": 3
   },
   "file_extension": ".py",
   "mimetype": "text/x-python",
   "name": "python",
   "nbconvert_exporter": "python",
   "pygments_lexer": "ipython3",
   "version": "3.11.0rc1"
  }
 },
 "nbformat": 4,
 "nbformat_minor": 4
}
