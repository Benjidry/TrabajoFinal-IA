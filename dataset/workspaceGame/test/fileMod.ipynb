{
 "cells": [
  {
   "cell_type": "code",
   "execution_count": 1,
   "metadata": {},
   "outputs": [],
   "source": [
    "import sys\n",
    "import os\n",
    "\n",
    "sys.path.append(os.path.abspath(\"../\"))\n",
    "\n",
    "from lib.Model.Tools import ModelDQN\n",
    "from lib.Game.Environment import BJEnvironment"
   ]
  },
  {
   "cell_type": "code",
   "execution_count": 2,
   "metadata": {},
   "outputs": [
    {
     "name": "stdout",
     "output_type": "stream",
     "text": [
      "Model: \"sequential\"\n",
      "_________________________________________________________________\n",
      " Layer (type)                Output Shape              Param #   \n",
      "=================================================================\n",
      " dense (Dense)               (None, 256)               2048      \n",
      "                                                                 \n",
      " dense_1 (Dense)             (None, 2)                 514       \n",
      "                                                                 \n",
      "=================================================================\n",
      "Total params: 2562 (10.01 KB)\n",
      "Trainable params: 2562 (10.01 KB)\n",
      "Non-trainable params: 0 (0.00 Byte)\n",
      "_________________________________________________________________\n"
     ]
    }
   ],
   "source": [
    "env = BJEnvironment()\n",
    "ModelClass = ModelDQN(env.state_size, env.action_size)"
   ]
  },
  {
   "cell_type": "code",
   "execution_count": 4,
   "metadata": {},
   "outputs": [
    {
     "name": "stdout",
     "output_type": "stream",
     "text": [
      "./../GameModels/v2/checkpoint_1/cp-0001.weights.h5\n",
      "./../GameModels/v2/checkpoint_1/cp-0002.weights.h5\n",
      "./../GameModels/v2/checkpoint_1/cp-0003.weights.h5\n",
      "./../GameModels/v2/checkpoint_1/cp-0004.weights.h5\n",
      "./../GameModels/v2/checkpoint_1/cp-0005.weights.h5\n",
      "./../GameModels/v2/checkpoint_1/cp-0006.weights.h5\n",
      "./../GameModels/v2/checkpoint_1/cp-0007.weights.h5\n",
      "./../GameModels/v2/checkpoint_1/cp-0008.weights.h5\n",
      "./../GameModels/v2/checkpoint_1/cp-0009.weights.h5\n",
      "./../GameModels/v2/checkpoint_1/cp-0010.weights.h5\n",
      "./../GameModels/v2/checkpoint_1/cp-0011.weights.h5\n",
      "./../GameModels/v2/checkpoint_1/cp-0012.weights.h5\n",
      "./../GameModels/v2/checkpoint_1/cp-0013.weights.h5\n",
      "./../GameModels/v2/checkpoint_1/cp-0014.weights.h5\n",
      "./../GameModels/v2/checkpoint_1/cp-0015.weights.h5\n",
      "./../GameModels/v2/checkpoint_1/cp-0016.weights.h5\n",
      "./../GameModels/v2/checkpoint_1/cp-0017.weights.h5\n",
      "./../GameModels/v2/checkpoint_1/cp-0018.weights.h5\n",
      "./../GameModels/v2/checkpoint_1/cp-0019.weights.h5\n",
      "./../GameModels/v2/checkpoint_1/cp-0020.weights.h5\n",
      "./../GameModels/v2/checkpoint_1/cp-0021.weights.h5\n",
      "./../GameModels/v2/checkpoint_1/cp-0022.weights.h5\n",
      "./../GameModels/v2/checkpoint_1/cp-0023.weights.h5\n",
      "./../GameModels/v2/checkpoint_1/cp-0024.weights.h5\n",
      "./../GameModels/v2/checkpoint_1/cp-0025.weights.h5\n",
      "./../GameModels/v2/checkpoint_1/cp-0026.weights.h5\n",
      "./../GameModels/v2/checkpoint_1/cp-0027.weights.h5\n",
      "./../GameModels/v2/checkpoint_1/cp-0028.weights.h5\n",
      "./../GameModels/v2/checkpoint_1/cp-0029.weights.h5\n",
      "./../GameModels/v2/checkpoint_1/cp-0030.weights.h5\n",
      "./../GameModels/v2/checkpoint_1/cp-0031.weights.h5\n",
      "./../GameModels/v2/checkpoint_1/cp-0032.weights.h5\n",
      "./../GameModels/v2/checkpoint_1/cp-0033.weights.h5\n"
     ]
    }
   ],
   "source": [
    "VERSION = 2\n",
    "COMPLETEDVERSION = 1\n",
    "\n",
    "latestCheckpoint = ModelClass.getCheckpointLatestVersion(VERSION, COMPLETEDVERSION)\n",
    "ModelClass.loadCheckpoint(VERSION, COMPLETEDVERSION, latestCheckpoint - 1)\n",
    "ModelClass.saveModel(VERSION, COMPLETEDVERSION)"
   ]
  }
 ],
 "metadata": {
  "kernelspec": {
   "display_name": "ML",
   "language": "python",
   "name": "python3"
  },
  "language_info": {
   "codemirror_mode": {
    "name": "ipython",
    "version": 3
   },
   "file_extension": ".py",
   "mimetype": "text/x-python",
   "name": "python",
   "nbconvert_exporter": "python",
   "pygments_lexer": "ipython3",
   "version": "3.11.9"
  }
 },
 "nbformat": 4,
 "nbformat_minor": 2
}
