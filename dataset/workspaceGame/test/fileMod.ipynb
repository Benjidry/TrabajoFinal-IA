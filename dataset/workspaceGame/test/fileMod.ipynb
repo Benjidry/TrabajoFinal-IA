{
 "cells": [
  {
   "cell_type": "code",
   "execution_count": 1,
   "metadata": {},
   "outputs": [],
   "source": [
    "import sys\n",
    "import os\n",
    "\n",
    "sys.path.append(os.path.abspath(\"../\"))\n",
    "\n",
    "from lib.Model.Tools import ModelDQN\n",
    "from lib.Game.Environment import BJEnvironment"
   ]
  },
  {
   "cell_type": "code",
   "execution_count": 2,
   "metadata": {},
   "outputs": [
    {
     "name": "stdout",
     "output_type": "stream",
     "text": [
      "Model: \"sequential\"\n",
      "_________________________________________________________________\n",
      " Layer (type)                Output Shape              Param #   \n",
      "=================================================================\n",
      " dense (Dense)               (None, 256)               1792      \n",
      "                                                                 \n",
      " dense_1 (Dense)             (None, 2)                 514       \n",
      "                                                                 \n",
      "=================================================================\n",
      "Total params: 2306 (9.01 KB)\n",
      "Trainable params: 2306 (9.01 KB)\n",
      "Non-trainable params: 0 (0.00 Byte)\n",
      "_________________________________________________________________\n"
     ]
    }
   ],
   "source": [
    "env = BJEnvironment()\n",
    "ModelClass = ModelDQN(env.state_size, env.action_size)"
   ]
  },
  {
   "cell_type": "code",
   "execution_count": 3,
   "metadata": {},
   "outputs": [],
   "source": [
    "VERSION = 6\n",
    "COMPLETEDVERSION = 1\n",
    "EPOCH = 4\n",
    "\n",
    "#latestCheckpoint = ModelClass.getCheckpointLatestVersion(VERSION, COMPLETEDVERSION)\n",
    "#ModelClass.loadCheckpoint(VERSION, COMPLETEDVERSION, latestCheckpoint - 1)\n",
    "ModelClass.loadCheckpoint(VERSION, COMPLETEDVERSION, EPOCH)\n",
    "ModelClass.saveModel(VERSION, COMPLETEDVERSION)"
   ]
  }
 ],
 "metadata": {
  "kernelspec": {
   "display_name": "ML",
   "language": "python",
   "name": "python3"
  },
  "language_info": {
   "codemirror_mode": {
    "name": "ipython",
    "version": 3
   },
   "file_extension": ".py",
   "mimetype": "text/x-python",
   "name": "python",
   "nbconvert_exporter": "python",
   "pygments_lexer": "ipython3",
   "version": "3.11.9"
  }
 },
 "nbformat": 4,
 "nbformat_minor": 2
}
