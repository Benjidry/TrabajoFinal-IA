{
 "cells": [
  {
   "cell_type": "code",
   "execution_count": 11,
   "metadata": {},
   "outputs": [],
   "source": [
    "import sys\n",
    "import os\n",
    "\n",
    "sys.path.append(os.path.abspath(os.path.join(os.path.dirname(__file__), \"..\")))\n",
    "\n",
    "from lib.Model.Tools import ModelDQN\n",
    "from lib.Game.Environment import BJEnvironment"
   ]
  },
  {
   "cell_type": "code",
   "execution_count": 12,
   "metadata": {},
   "outputs": [
    {
     "name": "stdout",
     "output_type": "stream",
     "text": [
      "Model: \"sequential_3\"\n",
      "_________________________________________________________________\n",
      " Layer (type)                Output Shape              Param #   \n",
      "=================================================================\n",
      " dense_6 (Dense)             (None, 128)               1024      \n",
      "                                                                 \n",
      " dense_7 (Dense)             (None, 4)                 516       \n",
      "                                                                 \n",
      "=================================================================\n",
      "Total params: 1540 (6.02 KB)\n",
      "Trainable params: 1540 (6.02 KB)\n",
      "Non-trainable params: 0 (0.00 Byte)\n",
      "_________________________________________________________________\n"
     ]
    }
   ],
   "source": [
    "env = BJEnvironment()\n",
    "ModelClass = ModelDQN(env.state_size, env.action_size)"
   ]
  },
  {
   "cell_type": "code",
   "execution_count": 13,
   "metadata": {},
   "outputs": [
    {
     "name": "stdout",
     "output_type": "stream",
     "text": [
      "./models/v7/checkpoint_1/cp-0001.weights.h5\n",
      "./models/v7/checkpoint_1/cp-0002.weights.h5\n"
     ]
    }
   ],
   "source": [
    "VERSION = 7\n",
    "COMPLETEDVERSION = 1\n",
    "\n",
    "latestCheckpoint = ModelClass.getCheckpointLatestVersion(VERSION, COMPLETEDVERSION)\n",
    "ModelClass.loadCheckpoint(VERSION, COMPLETEDVERSION, latestCheckpoint-1)\n",
    "ModelClass.saveModel(VERSION, COMPLETEDVERSION)"
   ]
  }
 ],
 "metadata": {
  "kernelspec": {
   "display_name": "ML",
   "language": "python",
   "name": "python3"
  },
  "language_info": {
   "codemirror_mode": {
    "name": "ipython",
    "version": 3
   },
   "file_extension": ".py",
   "mimetype": "text/x-python",
   "name": "python",
   "nbconvert_exporter": "python",
   "pygments_lexer": "ipython3",
   "version": "3.11.9"
  }
 },
 "nbformat": 4,
 "nbformat_minor": 2
}
