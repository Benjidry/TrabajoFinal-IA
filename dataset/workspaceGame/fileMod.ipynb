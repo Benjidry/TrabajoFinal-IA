{
 "cells": [
  {
   "cell_type": "code",
   "execution_count": 1,
   "metadata": {},
   "outputs": [],
   "source": [
    "from Blackjack.Tools import Model\n",
    "from Blackjack.Environment import BJEnvironment"
   ]
  },
  {
   "cell_type": "code",
   "execution_count": 2,
   "metadata": {},
   "outputs": [
    {
     "name": "stdout",
     "output_type": "stream",
     "text": [
      "Model: \"sequential\"\n",
      "_________________________________________________________________\n",
      " Layer (type)                Output Shape              Param #   \n",
      "=================================================================\n",
      " dense (Dense)               (None, 128)               1024      \n",
      "                                                                 \n",
      " dense_1 (Dense)             (None, 4)                 516       \n",
      "                                                                 \n",
      "=================================================================\n",
      "Total params: 1540 (6.02 KB)\n",
      "Trainable params: 1540 (6.02 KB)\n",
      "Non-trainable params: 0 (0.00 Byte)\n",
      "_________________________________________________________________\n"
     ]
    }
   ],
   "source": [
    "env = BJEnvironment()\n",
    "ModelClass = Model(env.state_size, env.action_size)"
   ]
  },
  {
   "cell_type": "code",
   "execution_count": 5,
   "metadata": {},
   "outputs": [
    {
     "name": "stdout",
     "output_type": "stream",
     "text": [
      "./models/v1/checkpoint_2/cp-0001.weights.h5\n",
      "./models/v1/checkpoint_2/cp-0002.weights.h5\n",
      "./models/v1/checkpoint_2/cp-0003.weights.h5\n",
      "./models/v1/checkpoint_2/cp-0004.weights.h5\n",
      "./models/v1/checkpoint_2/cp-0005.weights.h5\n",
      "./models/v1/checkpoint_2/cp-0006.weights.h5\n",
      "./models/v1/checkpoint_2/cp-0007.weights.h5\n",
      "./models/v1/checkpoint_2/cp-0008.weights.h5\n",
      "./models/v1/checkpoint_2/cp-0009.weights.h5\n",
      "./models/v1/checkpoint_2/cp-0010.weights.h5\n",
      "./models/v1/checkpoint_2/cp-0011.weights.h5\n",
      "./models/v1/checkpoint_2/cp-0012.weights.h5\n",
      "./models/v1/checkpoint_2/cp-0013.weights.h5\n",
      "./models/v1/checkpoint_2/cp-0014.weights.h5\n",
      "./models/v1/checkpoint_2/cp-0015.weights.h5\n",
      "./models/v1/checkpoint_2/cp-0016.weights.h5\n",
      "./models/v1/checkpoint_2/cp-0017.weights.h5\n",
      "./models/v1/checkpoint_2/cp-0018.weights.h5\n",
      "./models/v1/checkpoint_2/cp-0019.weights.h5\n",
      "./models/v1/checkpoint_2/cp-0020.weights.h5\n",
      "./models/v1/checkpoint_2/cp-0021.weights.h5\n",
      "./models/v1/checkpoint_2/cp-0022.weights.h5\n",
      "./models/v1/checkpoint_2/cp-0023.weights.h5\n",
      "./models/v1/checkpoint_2/cp-0024.weights.h5\n",
      "./models/v1/checkpoint_2/cp-0025.weights.h5\n",
      "./models/v1/checkpoint_2/cp-0026.weights.h5\n",
      "./models/v1/checkpoint_2/cp-0027.weights.h5\n"
     ]
    }
   ],
   "source": [
    "VERSION = 1\n",
    "COMPLETEDVERSION = 2\n",
    "\n",
    "latestCheckpoint = ModelClass.getCheckpointLatestVersion(VERSION, COMPLETEDVERSION)\n",
    "ModelClass.loadCheckpoint(VERSION, COMPLETEDVERSION, latestCheckpoint-1)\n",
    "ModelClass.saveModel(VERSION, COMPLETEDVERSION)"
   ]
  }
 ],
 "metadata": {
  "kernelspec": {
   "display_name": "ML",
   "language": "python",
   "name": "python3"
  },
  "language_info": {
   "codemirror_mode": {
    "name": "ipython",
    "version": 3
   },
   "file_extension": ".py",
   "mimetype": "text/x-python",
   "name": "python",
   "nbconvert_exporter": "python",
   "pygments_lexer": "ipython3",
   "version": "3.11.9"
  }
 },
 "nbformat": 4,
 "nbformat_minor": 2
}
