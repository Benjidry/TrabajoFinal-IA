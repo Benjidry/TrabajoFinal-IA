{
 "cells": [
  {
   "cell_type": "code",
   "execution_count": 1,
   "metadata": {},
   "outputs": [],
   "source": [
    "import pandas as pd\n",
    "import os\n",
    "import sys\n",
    "\n",
    "VERSION = 12\n",
    "COMPLETEDVERSION = 1\n",
    "\n",
    "sys.path.append(os.path.abspath(\"../\"))"
   ]
  },
  {
   "cell_type": "code",
   "execution_count": 3,
   "metadata": {},
   "outputs": [],
   "source": [
    "def getFiles():\n",
    "    fileExist = True\n",
    "    EPOCH = 1\n",
    "    reportPath = (\n",
    "        \"./../GameModels/v{ver}/Report/rp-{comVer}-epc-{epoch}.csv\"\n",
    "    )\n",
    "\n",
    "    while fileExist:\n",
    "        if os.path.exists(\n",
    "                reportPath.format(\n",
    "                    ver=VERSION, comVer=COMPLETEDVERSION, epoch=EPOCH\n",
    "                )\n",
    "            ):\n",
    "                print(\n",
    "                    reportPath.format(\n",
    "                        ver=VERSION, comVer=COMPLETEDVERSION, epoch=EPOCH\n",
    "                    )\n",
    "                )\n",
    "                EPOCH += 1\n",
    "        else:\n",
    "            fileExist = False\n",
    "            \n",
    "    return EPOCH"
   ]
  },
  {
   "cell_type": "code",
   "execution_count": 4,
   "metadata": {},
   "outputs": [
    {
     "name": "stdout",
     "output_type": "stream",
     "text": [
      "./../GameModels/v12/Report/rp-1-epc-1.csv\n",
      "./../GameModels/v12/Report/rp-1-epc-2.csv\n",
      "./../GameModels/v12/Report/rp-1-epc-3.csv\n",
      "./../GameModels/v12/Report/rp-1-epc-4.csv\n",
      "./../GameModels/v12/Report/rp-1-epc-5.csv\n",
      "./../GameModels/v12/Report/rp-1-epc-6.csv\n",
      "./../GameModels/v12/Report/rp-1-epc-7.csv\n",
      "./../GameModels/v12/Report/rp-1-epc-8.csv\n",
      "./../GameModels/v12/Report/rp-1-epc-9.csv\n",
      "./../GameModels/v12/Report/rp-1-epc-10.csv\n",
      "./../GameModels/v12/Report/rp-1-epc-11.csv\n",
      "./../GameModels/v12/Report/rp-1-epc-12.csv\n",
      "./../GameModels/v12/Report/rp-1-epc-13.csv\n",
      "./../GameModels/v12/Report/rp-1-epc-14.csv\n",
      "./../GameModels/v12/Report/rp-1-epc-15.csv\n",
      "./../GameModels/v12/Report/rp-1-epc-16.csv\n"
     ]
    }
   ],
   "source": [
    "totalEpoch = getFiles()"
   ]
  },
  {
   "cell_type": "code",
   "execution_count": 5,
   "metadata": {},
   "outputs": [],
   "source": [
    "def arrayDataframes(totalEpoch):\n",
    "    array = []\n",
    "    reportPath = \"./../GameModels/v{ver}/Report/rp-{comVer}-epc-{epoch}.csv\"\n",
    "    for epoch in range(1, totalEpoch):\n",
    "        dataframe = pd.read_csv(\n",
    "            reportPath.format(ver=VERSION, comVer=COMPLETEDVERSION, epoch=epoch)\n",
    "        )\n",
    "        array.append(dataframe)\n",
    "    return array\n",
    "        "
   ]
  },
  {
   "cell_type": "code",
   "execution_count": 6,
   "metadata": {},
   "outputs": [],
   "source": [
    "arrayDataframe = arrayDataframes(totalEpoch)"
   ]
  },
  {
   "cell_type": "code",
   "execution_count": 7,
   "metadata": {},
   "outputs": [],
   "source": [
    "def summaryDataframes(arrayDataframe):\n",
    "    df = pd.DataFrame()\n",
    "    chkpnt = 1\n",
    "\n",
    "    for dataframe in arrayDataframe:\n",
    "        dictValue = {\n",
    "            \"ckpnt\": chkpnt,\n",
    "            \"loss\": (dataframe[\"status\"] == \"loss\").sum(),\n",
    "            \"win\": (dataframe[\"status\"] == \"win\").sum(),\n",
    "            \"draw\": (dataframe[\"status\"] == \"draw\").sum(),\n",
    "        }\n",
    "        chkpnt = chkpnt + 1\n",
    "        df = pd.concat([df, pd.DataFrame.from_records([dictValue])], ignore_index=True)\n",
    "    return df"
   ]
  },
  {
   "cell_type": "code",
   "execution_count": 8,
   "metadata": {},
   "outputs": [],
   "source": [
    "df = summaryDataframes(arrayDataframe)\n"
   ]
  },
  {
   "cell_type": "code",
   "execution_count": 9,
   "metadata": {},
   "outputs": [
    {
     "data": {
      "text/html": [
       "<div>\n",
       "<style scoped>\n",
       "    .dataframe tbody tr th:only-of-type {\n",
       "        vertical-align: middle;\n",
       "    }\n",
       "\n",
       "    .dataframe tbody tr th {\n",
       "        vertical-align: top;\n",
       "    }\n",
       "\n",
       "    .dataframe thead th {\n",
       "        text-align: right;\n",
       "    }\n",
       "</style>\n",
       "<table border=\"1\" class=\"dataframe\">\n",
       "  <thead>\n",
       "    <tr style=\"text-align: right;\">\n",
       "      <th></th>\n",
       "      <th>ckpnt</th>\n",
       "      <th>loss</th>\n",
       "      <th>win</th>\n",
       "      <th>draw</th>\n",
       "    </tr>\n",
       "  </thead>\n",
       "  <tbody>\n",
       "    <tr>\n",
       "      <th>0</th>\n",
       "      <td>1</td>\n",
       "      <td>269</td>\n",
       "      <td>142</td>\n",
       "      <td>88</td>\n",
       "    </tr>\n",
       "    <tr>\n",
       "      <th>1</th>\n",
       "      <td>2</td>\n",
       "      <td>287</td>\n",
       "      <td>186</td>\n",
       "      <td>26</td>\n",
       "    </tr>\n",
       "    <tr>\n",
       "      <th>2</th>\n",
       "      <td>3</td>\n",
       "      <td>314</td>\n",
       "      <td>65</td>\n",
       "      <td>120</td>\n",
       "    </tr>\n",
       "    <tr>\n",
       "      <th>3</th>\n",
       "      <td>4</td>\n",
       "      <td>292</td>\n",
       "      <td>137</td>\n",
       "      <td>70</td>\n",
       "    </tr>\n",
       "    <tr>\n",
       "      <th>4</th>\n",
       "      <td>5</td>\n",
       "      <td>306</td>\n",
       "      <td>71</td>\n",
       "      <td>122</td>\n",
       "    </tr>\n",
       "  </tbody>\n",
       "</table>\n",
       "</div>"
      ],
      "text/plain": [
       "   ckpnt  loss  win  draw\n",
       "0      1   269  142    88\n",
       "1      2   287  186    26\n",
       "2      3   314   65   120\n",
       "3      4   292  137    70\n",
       "4      5   306   71   122"
      ]
     },
     "execution_count": 9,
     "metadata": {},
     "output_type": "execute_result"
    }
   ],
   "source": [
    "df.head()"
   ]
  },
  {
   "cell_type": "code",
   "execution_count": 10,
   "metadata": {},
   "outputs": [
    {
     "name": "stdout",
     "output_type": "stream",
     "text": [
      "Version: 12\n"
     ]
    },
    {
     "data": {
      "text/plain": [
       "ckpnt      8.5\n",
       "loss     291.0\n",
       "win      135.5\n",
       "draw      90.5\n",
       "dtype: float64"
      ]
     },
     "execution_count": 10,
     "metadata": {},
     "output_type": "execute_result"
    }
   ],
   "source": [
    "print(f\"Version: {VERSION}\")\n",
    "df.median()"
   ]
  },
  {
   "cell_type": "code",
   "execution_count": 11,
   "metadata": {},
   "outputs": [
    {
     "data": {
      "text/plain": [
       "<Axes: >"
      ]
     },
     "execution_count": 11,
     "metadata": {},
     "output_type": "execute_result"
    },
    {
     "data": {
      "image/png": "[encoded data removed]",
      "text/plain": [
       "<Figure size 640x480 with 1 Axes>"
      ]
     },
     "metadata": {},
     "output_type": "display_data"
    }
   ],
   "source": [
    "df.plot()"
   ]
  },
  {
   "cell_type": "code",
   "execution_count": 12,
   "metadata": {},
   "outputs": [
    {
     "data": {
      "text/plain": [
       "28.589375"
      ]
     },
     "execution_count": 12,
     "metadata": {},
     "output_type": "execute_result"
    }
   ],
   "source": [
    "df[\"percentage\"] = round((df[\"win\"]*100/(df[\"win\"]+df[\"loss\"])),2)\n",
    "df[\"percentage\"].mean()"
   ]
  }
 ],
 "metadata": {
  "kernelspec": {
   "display_name": "Python 3",
   "language": "python",
   "name": "python3"
  },
  "language_info": {
   "codemirror_mode": {
    "name": "ipython",
    "version": 3
   },
   "file_extension": ".py",
   "mimetype": "text/x-python",
   "name": "python",
   "nbconvert_exporter": "python",
   "pygments_lexer": "ipython3",
   "version": "3.11.9"
  }
 },
 "nbformat": 4,
 "nbformat_minor": 2
}
