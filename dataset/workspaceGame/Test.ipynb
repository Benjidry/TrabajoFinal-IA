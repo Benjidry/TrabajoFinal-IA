{
 "cells": [
  {
   "cell_type": "code",
   "execution_count": null,
   "metadata": {},
   "outputs": [],
   "source": [
    "from Blackjack.Environment import BJEnvironment\n",
    "env = BJEnvironment()"
   ]
  },
  {
   "cell_type": "code",
   "execution_count": null,
   "metadata": {},
   "outputs": [],
   "source": [
    "for _ in range(1000):\n",
    "    env.reset(5)\n",
    "    print(env.get_obs())"
   ]
  },
  {
   "cell_type": "code",
   "execution_count": null,
   "metadata": {},
   "outputs": [],
   "source": [
    "env.reset(5)\n",
    "\n",
    "state, action, reward, next_state, done = env.step(2)\n",
    "\n",
    "print(\"Obs: Step 0\")\n",
    "print(state)\n",
    "\n",
    "print(\"Obs: Step 1\")\n",
    "print(next_state)\n",
    "\n",
    "print(\"Reward\")\n",
    "print(reward)"
   ]
  }
 ],
 "metadata": {
  "kernelspec": {
   "display_name": "ML",
   "language": "python",
   "name": "python3"
  },
  "language_info": {
   "codemirror_mode": {
    "name": "ipython",
    "version": 3
   },
   "file_extension": ".py",
   "mimetype": "text/x-python",
   "name": "python",
   "nbconvert_exporter": "python",
   "pygments_lexer": "ipython3",
   "version": "3.11.9"
  }
 },
 "nbformat": 4,
 "nbformat_minor": 2
}
