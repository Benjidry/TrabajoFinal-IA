{
 "cells": [
  {
   "cell_type": "code",
   "execution_count": 178,
   "metadata": {},
   "outputs": [],
   "source": [
    "import pandas as pd\n",
    "import os\n",
    "import sys\n",
    "import pathlib as Path\n",
    "\n",
    "VERSION = 6\n",
    "COMPLETEDVERSION = 1\n",
    "\n",
    "sys.path.append(os.path.abspath(\"../\"))"
   ]
  },
  {
   "cell_type": "code",
   "execution_count": 179,
   "metadata": {},
   "outputs": [],
   "source": [
    "def getFiles():\n",
    "    fileExist = True\n",
    "    EPOCH = 1\n",
    "    reportPath = (\n",
    "        \"./../GameModels/v{ver}/Report/rp-{comVer}-epc-{epoch}.csv\"\n",
    "    )\n",
    "\n",
    "    while fileExist:\n",
    "        if os.path.exists(\n",
    "                reportPath.format(\n",
    "                    ver=VERSION, comVer=COMPLETEDVERSION, epoch=EPOCH\n",
    "                )\n",
    "            ):\n",
    "                print(\n",
    "                    reportPath.format(\n",
    "                        ver=VERSION, comVer=COMPLETEDVERSION, epoch=EPOCH\n",
    "                    )\n",
    "                )\n",
    "                EPOCH += 1\n",
    "        else:\n",
    "            fileExist = False\n",
    "            \n",
    "    return EPOCH"
   ]
  },
  {
   "cell_type": "code",
   "execution_count": 180,
   "metadata": {},
   "outputs": [
    {
     "name": "stdout",
     "output_type": "stream",
     "text": [
      "./../GameModels/v6/Report/rp-1-epc-1.csv\n",
      "./../GameModels/v6/Report/rp-1-epc-2.csv\n",
      "./../GameModels/v6/Report/rp-1-epc-3.csv\n",
      "./../GameModels/v6/Report/rp-1-epc-4.csv\n",
      "./../GameModels/v6/Report/rp-1-epc-5.csv\n",
      "./../GameModels/v6/Report/rp-1-epc-6.csv\n",
      "./../GameModels/v6/Report/rp-1-epc-7.csv\n",
      "./../GameModels/v6/Report/rp-1-epc-8.csv\n",
      "./../GameModels/v6/Report/rp-1-epc-9.csv\n",
      "./../GameModels/v6/Report/rp-1-epc-10.csv\n",
      "./../GameModels/v6/Report/rp-1-epc-11.csv\n",
      "./../GameModels/v6/Report/rp-1-epc-12.csv\n",
      "./../GameModels/v6/Report/rp-1-epc-13.csv\n",
      "./../GameModels/v6/Report/rp-1-epc-14.csv\n",
      "./../GameModels/v6/Report/rp-1-epc-15.csv\n",
      "./../GameModels/v6/Report/rp-1-epc-16.csv\n",
      "./../GameModels/v6/Report/rp-1-epc-17.csv\n",
      "./../GameModels/v6/Report/rp-1-epc-18.csv\n",
      "./../GameModels/v6/Report/rp-1-epc-19.csv\n",
      "./../GameModels/v6/Report/rp-1-epc-20.csv\n",
      "./../GameModels/v6/Report/rp-1-epc-21.csv\n",
      "./../GameModels/v6/Report/rp-1-epc-22.csv\n"
     ]
    }
   ],
   "source": [
    "totalEpoch = getFiles()"
   ]
  },
  {
   "cell_type": "code",
   "execution_count": 181,
   "metadata": {},
   "outputs": [],
   "source": [
    "def arrayDataframes(totalEpoch):\n",
    "    array = []\n",
    "    reportPath = \"./../GameModels/v{ver}/Report/rp-{comVer}-epc-{epoch}.csv\"\n",
    "    for epoch in range(1, totalEpoch):\n",
    "        dataframe = pd.read_csv(\n",
    "            reportPath.format(ver=VERSION, comVer=COMPLETEDVERSION, epoch=epoch)\n",
    "        )\n",
    "        array.append(dataframe)\n",
    "    return array\n",
    "        "
   ]
  },
  {
   "cell_type": "code",
   "execution_count": 182,
   "metadata": {},
   "outputs": [],
   "source": [
    "arrayDataframe = arrayDataframes(totalEpoch)"
   ]
  },
  {
   "cell_type": "code",
   "execution_count": 183,
   "metadata": {},
   "outputs": [],
   "source": [
    "def summaryDataframes(arrayDataframe):\n",
    "    df = pd.DataFrame()\n",
    "    chkpnt = 1\n",
    "\n",
    "    for dataframe in arrayDataframe:\n",
    "        dictValue = {\n",
    "            \"ckpnt\": chkpnt,\n",
    "            \"loss\": (dataframe[\"status\"] == \"loss\").sum(),\n",
    "            \"win\": (dataframe[\"status\"] == \"win\").sum(),\n",
    "            \"draw\": (dataframe[\"status\"] == \"draw\").sum(),\n",
    "        }\n",
    "        chkpnt = chkpnt + 1\n",
    "        df = pd.concat([df, pd.DataFrame.from_records([dictValue])], ignore_index=True)\n",
    "    return df"
   ]
  },
  {
   "cell_type": "code",
   "execution_count": 184,
   "metadata": {},
   "outputs": [],
   "source": [
    "df = summaryDataframes(arrayDataframe)\n"
   ]
  },
  {
   "cell_type": "code",
   "execution_count": 185,
   "metadata": {},
   "outputs": [
    {
     "data": {
      "text/html": [
       "<div>\n",
       "<style scoped>\n",
       "    .dataframe tbody tr th:only-of-type {\n",
       "        vertical-align: middle;\n",
       "    }\n",
       "\n",
       "    .dataframe tbody tr th {\n",
       "        vertical-align: top;\n",
       "    }\n",
       "\n",
       "    .dataframe thead th {\n",
       "        text-align: right;\n",
       "    }\n",
       "</style>\n",
       "<table border=\"1\" class=\"dataframe\">\n",
       "  <thead>\n",
       "    <tr style=\"text-align: right;\">\n",
       "      <th></th>\n",
       "      <th>ckpnt</th>\n",
       "      <th>loss</th>\n",
       "      <th>win</th>\n",
       "      <th>draw</th>\n",
       "    </tr>\n",
       "  </thead>\n",
       "  <tbody>\n",
       "    <tr>\n",
       "      <th>0</th>\n",
       "      <td>1</td>\n",
       "      <td>570</td>\n",
       "      <td>321</td>\n",
       "      <td>108</td>\n",
       "    </tr>\n",
       "    <tr>\n",
       "      <th>1</th>\n",
       "      <td>2</td>\n",
       "      <td>478</td>\n",
       "      <td>396</td>\n",
       "      <td>125</td>\n",
       "    </tr>\n",
       "    <tr>\n",
       "      <th>2</th>\n",
       "      <td>3</td>\n",
       "      <td>609</td>\n",
       "      <td>154</td>\n",
       "      <td>236</td>\n",
       "    </tr>\n",
       "    <tr>\n",
       "      <th>3</th>\n",
       "      <td>4</td>\n",
       "      <td>602</td>\n",
       "      <td>175</td>\n",
       "      <td>222</td>\n",
       "    </tr>\n",
       "    <tr>\n",
       "      <th>4</th>\n",
       "      <td>5</td>\n",
       "      <td>605</td>\n",
       "      <td>339</td>\n",
       "      <td>55</td>\n",
       "    </tr>\n",
       "  </tbody>\n",
       "</table>\n",
       "</div>"
      ],
      "text/plain": [
       "   ckpnt  loss  win  draw\n",
       "0      1   570  321   108\n",
       "1      2   478  396   125\n",
       "2      3   609  154   236\n",
       "3      4   602  175   222\n",
       "4      5   605  339    55"
      ]
     },
     "execution_count": 185,
     "metadata": {},
     "output_type": "execute_result"
    }
   ],
   "source": [
    "df.head()"
   ]
  },
  {
   "cell_type": "code",
   "execution_count": 186,
   "metadata": {},
   "outputs": [
    {
     "name": "stdout",
     "output_type": "stream",
     "text": [
      "Version: 6\n"
     ]
    },
    {
     "data": {
      "text/plain": [
       "ckpnt     11.5\n",
       "loss     605.0\n",
       "win      145.5\n",
       "draw     229.5\n",
       "dtype: float64"
      ]
     },
     "execution_count": 186,
     "metadata": {},
     "output_type": "execute_result"
    }
   ],
   "source": [
    "print(f\"Version: {VERSION}\")\n",
    "df.median()"
   ]
  }
 ],
 "metadata": {
  "kernelspec": {
   "display_name": "Python 3",
   "language": "python",
   "name": "python3"
  },
  "language_info": {
   "codemirror_mode": {
    "name": "ipython",
    "version": 3
   },
   "file_extension": ".py",
   "mimetype": "text/x-python",
   "name": "python",
   "nbconvert_exporter": "python",
   "pygments_lexer": "ipython3",
   "version": "3.11.9"
  }
 },
 "nbformat": 4,
 "nbformat_minor": 2
}
