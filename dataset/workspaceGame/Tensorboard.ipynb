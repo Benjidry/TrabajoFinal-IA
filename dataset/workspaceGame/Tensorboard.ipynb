{
 "cells": [
  {
   "cell_type": "markdown",
   "metadata": {},
   "source": [
    "# Parsing Files"
   ]
  },
  {
   "cell_type": "code",
   "execution_count": null,
   "metadata": {},
   "outputs": [],
   "source": [
    "import os \n",
    "def get_all_event_files_from_folder(folder_path):\n",
    "    event_files = []\n",
    "    for entry in os.scandir(folder_path):\n",
    "        if entry.is_file and 'tfevents' in entry.name:\n",
    "            event_files.append(entry.path)\n",
    "            \n",
    "    return event_files\n",
    "\n",
    "array = get_all_event_files_from_folder(\"models/v1/logs/train\")\n",
    "array"
   ]
  },
  {
   "cell_type": "code",
   "execution_count": null,
   "metadata": {},
   "outputs": [],
   "source": [
    "\n",
    "import tensorflow as tf\n",
    "from tensorboard.backend.event_processing import event_accumulator\n",
    "\n",
    "writer = tf.summary.create_file_writer(\"models/v1/logs/train\")\n",
    "def combine_event_logs(array):\n",
    "    output = \"./models/v1/logs/output\"\n",
    "    \n",
    "    write = tf.summary.create_file_writer(output)\n",
    "    for logdir in array:\n",
    "        ea = event_accumulator.EventAccumulator(logdir)\n",
    "        ea.Reload()\n",
    "        \n",
    "        for tag in ea.Tags()['accuracy']:\n",
    "            for event in ea.Scalars(tag):\n",
    "                with writer.as_default():\n",
    "                    print(tag, event.value, event.step)\n",
    "                    tf.summary.scalar(name =tag, data =event.value, step=event.step)\n",
    "    writer.close()\n",
    "    \n",
    "combine_event_logs(array)"
   ]
  },
  {
   "cell_type": "code",
   "execution_count": null,
   "metadata": {},
   "outputs": [],
   "source": [
    "%load_ext tensorboard.main --logdir models/v1/logs/output"
   ]
  }
 ],
 "metadata": {
  "kernelspec": {
   "display_name": "ML",
   "language": "python",
   "name": "python3"
  },
  "language_info": {
   "codemirror_mode": {
    "name": "ipython",
    "version": 3
   },
   "file_extension": ".py",
   "mimetype": "text/x-python",
   "name": "python",
   "nbconvert_exporter": "python",
   "pygments_lexer": "ipython3",
   "version": "3.11.9"
  }
 },
 "nbformat": 4,
 "nbformat_minor": 2
}
