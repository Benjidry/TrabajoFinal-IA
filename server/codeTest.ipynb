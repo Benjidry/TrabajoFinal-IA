{
 "cells": [
  {
   "cell_type": "code",
   "execution_count": 1,
   "metadata": {},
   "outputs": [],
   "source": [
    "import CardDetection.model as cardModel\n",
    "import GamePrediction.model as gameModel"
   ]
  },
  {
   "cell_type": "code",
   "execution_count": 2,
   "metadata": {},
   "outputs": [],
   "source": [
    "file_path = \"./received_image.png\""
   ]
  },
  {
   "cell_type": "code",
   "execution_count": 3,
   "metadata": {},
   "outputs": [],
   "source": [
    "def predictImage(file_path):\n",
    "        cardsDealer, cardsPlayer = cardModel.detectCards(file_path)\n",
    "        print(cardsDealer, cardsPlayer)\n",
    "        return cardsDealer, cardsPlayer\n",
    "\n",
    "def predictGame(cardDealer, cardPlayer):\n",
    "    state = gameModel.states(cardDealer, cardPlayer)\n",
    "    prediction = gameModel.gamePrediction(state)\n",
    "    print(state, prediction)\n",
    "\n",
    "    predictionArray = [\"hit\", \"stay\", \"split\", \"double\"][prediction]\n",
    "    print(predictionArray)\n",
    "    return state, predictionArray"
   ]
  },
  {
   "cell_type": "code",
   "execution_count": 4,
   "metadata": {
    "notebookRunGroups": {
     "groupValue": "1"
    }
   },
   "outputs": [
    {
     "name": "stdout",
     "output_type": "stream",
     "text": [
      "\n",
      "0: 384x640 1 10H, 1 7C, 1 7H, 1 8C, 99.9ms\n",
      "Speed: 6.4ms preprocess, 99.9ms inference, 9.5ms postprocess per image at shape (1, 3, 384, 640)\n",
      "1080\n",
      "1920\n",
      "{0: '10C', 1: '10D', 2: '10H', 3: '10S', 4: '2C', 5: '2D', 6: '2H', 7: '2S', 8: '3C', 9: '3D', 10: '3H', 11: '3S', 12: '4C', 13: '4D', 14: '4H', 15: '4S', 16: '5C', 17: '5D', 18: '5H', 19: '5S', 20: '6C', 21: '6D', 22: '6H', 23: '6S', 24: '7C', 25: '7D', 26: '7H', 27: '7S', 28: '8C', 29: '8D', 30: '8H', 31: '8S', 32: '9C', 33: '9D', 34: '9H', 35: '9S', 36: 'AC', 37: 'AD', 38: 'AH', 39: 'AS', 40: 'JC', 41: 'JD', 42: 'JH', 43: 'JS', 44: 'KC', 45: 'KD', 46: 'KH', 47: 'KS', 48: 'QC', 49: 'QD', 50: 'QH', 51: 'QS'}\n",
      "Type Card\n",
      "7H\n",
      "Confidence\n",
      "0.74\n",
      "Coordinates\n",
      "[[     1000.2      785.02      1076.7      930.71]]\n",
      "1000.20465 1076.7266 785.0186 930.70703\n",
      "Type Card\n",
      "10H\n",
      "Confidence\n",
      "0.61\n",
      "Coordinates\n",
      "[[     960.95      284.92      1043.5      432.77]]\n",
      "960.94904 1043.5001 284.91925 432.76785\n",
      "Type Card\n",
      "8C\n",
      "Confidence\n",
      "0.55\n",
      "Coordinates\n",
      "[[     1155.2      778.94      1229.7      921.58]]\n",
      "1155.2275 1229.7239 778.9391 921.57697\n",
      "Type Card\n",
      "7C\n",
      "Confidence\n",
      "0.32\n",
      "Coordinates\n",
      "[[     1003.4      785.53      1076.5      929.57]]\n",
      "1003.36945 1076.4911 785.53253 929.56696\n",
      "[{'Conf': 0.74, 'TypeCard': '7H'}, {'Conf': 0.55, 'TypeCard': '8C'}, {'Conf': 0.32, 'TypeCard': '7C'}] [{'Conf': 0.61, 'TypeCard': '10H'}]\n",
      "10H\n",
      "[          0           0           0           0           0           0           0           0           0           1           0           0           0]\n",
      "7H\n",
      "8C\n",
      "[          0           0           0           0           0           0           1           1           0           0           0           0           0]\n",
      "1/1 [==============================] - 0s 44ms/step\n",
      "[[10 15  0  0  5  0]] 1\n",
      "stay\n"
     ]
    },
    {
     "data": {
      "text/plain": [
       "(array([[10, 15,  0,  0,  5,  0]], dtype=uint8), 'stay')"
      ]
     },
     "execution_count": 4,
     "metadata": {},
     "output_type": "execute_result"
    }
   ],
   "source": [
    "cardsDealer, cardsPlayer = predictImage(file_path)\n",
    "predictGame(cardsDealer, cardsPlayer)"
   ]
  },
  {
   "cell_type": "code",
   "execution_count": 5,
   "metadata": {},
   "outputs": [
    {
     "name": "stdout",
     "output_type": "stream",
     "text": [
      "10\n"
     ]
    }
   ],
   "source": [
    "value = \"10H\".split(\"H\")[0]\n",
    "print(value)"
   ]
  }
 ],
 "metadata": {
  "kernelspec": {
   "display_name": "ML",
   "language": "python",
   "name": "python3"
  },
  "language_info": {
   "codemirror_mode": {
    "name": "ipython",
    "version": 3
   },
   "file_extension": ".py",
   "mimetype": "text/x-python",
   "name": "python",
   "nbconvert_exporter": "python",
   "pygments_lexer": "ipython3",
   "version": "3.11.9"
  }
 },
 "nbformat": 4,
 "nbformat_minor": 2
}
